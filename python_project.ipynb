{
 "cells": [
  {
   "cell_type": "code",
   "execution_count": 9,
   "metadata": {},
   "outputs": [
    {
     "name": "stdout",
     "output_type": "stream",
     "text": [
      "This is an Indian Bank\n"
     ]
    }
   ],
   "source": [
    "class bank:\n",
    "    a = 'This is an Indian Bank'\n",
    "\n",
    "u1 = bank()\n",
    "print(u1.a)"
   ]
  },
  {
   "cell_type": "code",
   "execution_count": 7,
   "metadata": {},
   "outputs": [
    {
     "name": "stdout",
     "output_type": "stream",
     "text": [
      "Name:2322\n",
      "Domain:gmail.com\n"
     ]
    }
   ],
   "source": [
    "email = str(input('Enter your email:'))\n",
    "splitted = email.split('@')\n",
    "name = splitted[0]\n",
    "domain = splitted[1]\n",
    "print(f\"Name:{name}\")\n",
    "print(f\"Domain:{domain}\")\n",
    "\n"
   ]
  },
  {
   "cell_type": "code",
   "execution_count": 34,
   "metadata": {},
   "outputs": [
    {
     "name": "stdout",
     "output_type": "stream",
     "text": [
      "None\n"
     ]
    },
    {
     "data": {
      "image/png": "[encoded data removed]",
      "text/plain": [
       "<Figure size 640x480 with 1 Axes>"
      ]
     },
     "metadata": {},
     "output_type": "display_data"
    }
   ],
   "source": [
    "# colour finding\n",
    "import matplotlib.pyplot as plt\n",
    "import matplotlib.colors as mcolours\n",
    "\n",
    "\n",
    "colour = str(input(\"Enter the colour name:\"))\n",
    "plt.plot(colour)\n",
    "if colour == 'Red':\n",
    "    print(f\"\\033[1;32;40m {colour}\")\n",
    "else:\n",
    "    print('None')\n",
    "\n"
   ]
  },
  {
   "cell_type": "code",
   "execution_count": 3,
   "metadata": {},
   "outputs": [
    {
     "name": "stdout",
     "output_type": "stream",
     "text": [
      "29\n"
     ]
    }
   ],
   "source": [
    "import random as random\n",
    "num = random.randrange(1,100)\n",
    "print(num)\n",
    "\n",
    "class number_guessing_game:\n",
    " def guess_the_number(self):\n",
    "  try:\n",
    "    guessing_number = int(input(\"Enter a number between 1 to 100:\"))\n",
    "\n",
    "  except Exception:\n",
    "    print('Please enter a valid number')\n",
    "\n",
    "  if guessing_number > 0 and guessing_number < 101:\n",
    "    if guessing_number > num:\n",
    "      print(\"Too high! Try again\")\n",
    "    elif guessing_number < num:\n",
    "      print(\"Too low! Try again\")\n",
    "    else:\n",
    "      print(\"Congratulations! You guess it right.\")\n",
    "  else:\n",
    "    print(\"Number is out of range\")\n",
    "\n",
    " def exit_game(self):\n",
    "   while exit == True:\n",
    "     break\n",
    "\n",
    "  \n",
    "\n",
    "u1 = number_guessing_game()\n",
    "u1.exit_game()"
   ]
  },
  {
   "cell_type": "code",
   "execution_count": 7,
   "metadata": {},
   "outputs": [],
   "source": [
    "exit = False\n",
    "while exit == False:\n",
    "    break\n",
    "else:\n",
    "     print(\"Hi\")\n"
   ]
  }
 ],
 "metadata": {
  "kernelspec": {
   "display_name": "base",
   "language": "python",
   "name": "python3"
  },
  "language_info": {
   "codemirror_mode": {
    "name": "ipython",
    "version": 3
   },
   "file_extension": ".py",
   "mimetype": "text/x-python",
   "name": "python",
   "nbconvert_exporter": "python",
   "pygments_lexer": "ipython3",
   "version": "3.12.7"
  }
 },
 "nbformat": 4,
 "nbformat_minor": 2
}
