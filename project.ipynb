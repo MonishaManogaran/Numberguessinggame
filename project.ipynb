{
 "cells": [
  {
   "cell_type": "code",
   "execution_count": 2,
   "metadata": {},
   "outputs": [
    {
     "name": "stdout",
     "output_type": "stream",
     "text": [
      "91\n"
     ]
    }
   ],
   "source": [
    "# number guessing game\n",
    "import random as random\n",
    "num = random.randrange(1,100)\n",
    "print(num)\n",
    "\n",
    "class number_guessing_game:\n",
    " def guess_the_number(self):\n",
    "  try:\n",
    "    guessing_number = int(input(\"Enter a number between 1 to 100:\"))\n",
    "\n",
    "  except Exception:\n",
    "    print('Please enter a valid number')\n",
    "\n",
    "  if guessing_number > 0 and guessing_number < 101:\n",
    "    if guessing_number > num:\n",
    "      print(\"Too high! Try again\")\n",
    "    elif guessing_number < num:\n",
    "      print(\"Too low! Try again\")\n",
    "    else:\n",
    "      print(\"Congratulations! You guess it right.\")\n",
    "  else:\n",
    "    print(\"Number is out of range\")\n",
    "\n",
    " def exit_game(self):\n",
    "   pass\n",
    "  \n",
    "\n",
    "u1 = number_guessing_game()\n",
    "u1.exit_game()\n",
    "\n"
   ]
  }
 ],
 "metadata": {
  "kernelspec": {
   "display_name": "base",
   "language": "python",
   "name": "python3"
  },
  "language_info": {
   "codemirror_mode": {
    "name": "ipython",
    "version": 3
   },
   "file_extension": ".py",
   "mimetype": "text/x-python",
   "name": "python",
   "nbconvert_exporter": "python",
   "pygments_lexer": "ipython3",
   "version": "3.12.7"
  }
 },
 "nbformat": 4,
 "nbformat_minor": 2
}
